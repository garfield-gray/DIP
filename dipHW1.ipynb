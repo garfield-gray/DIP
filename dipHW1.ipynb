{
  "nbformat": 4,
  "nbformat_minor": 0,
  "metadata": {
    "colab": {
      "provenance": [],
      "authorship_tag": "ABX9TyOvBV7QXMdgnHU3ra1lZwg4",
      "include_colab_link": true
    },
    "kernelspec": {
      "name": "python3",
      "display_name": "Python 3"
    },
    "language_info": {
      "name": "python"
    }
  },
  "cells": [
    {
      "cell_type": "markdown",
      "metadata": {
        "id": "view-in-github",
        "colab_type": "text"
      },
      "source": [
        "<a href=\"https://colab.research.google.com/github/garfield-gray/DIP/blob/main/dipHW1.ipynb\" target=\"_parent\"><img src=\"https://colab.research.google.com/assets/colab-badge.svg\" alt=\"Open In Colab\"/></a>"
      ]
    },
    {
      "cell_type": "code",
      "execution_count": 1,
      "metadata": {
        "id": "Bxm2hej3VdTs"
      },
      "outputs": [],
      "source": [
        "#3/10/2030, Let's begin"
      ]
    },
    {
      "cell_type": "code",
      "source": [],
      "metadata": {
        "id": "koMJE65dVmjQ"
      },
      "execution_count": null,
      "outputs": []
    }
  ]
}